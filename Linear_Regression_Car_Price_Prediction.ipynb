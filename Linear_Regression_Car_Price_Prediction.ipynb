{
  "nbformat": 4,
  "nbformat_minor": 0,
  "metadata": {
    "colab": {
      "private_outputs": true,
      "provenance": [],
      "authorship_tag": "ABX9TyNFOqE5UwTY8WvJ5aaSVa1E",
      "include_colab_link": true
    },
    "kernelspec": {
      "name": "python3",
      "display_name": "Python 3"
    },
    "language_info": {
      "name": "python"
    }
  },
  "cells": [
    {
      "cell_type": "markdown",
      "metadata": {
        "id": "view-in-github",
        "colab_type": "text"
      },
      "source": [
        "<a href=\"https://colab.research.google.com/github/madiha-ahmed-chowdhury/ASRRO_Shared-Task-Hunt/blob/main/Linear_Regression_Car_Price_Prediction.ipynb\" target=\"_parent\"><img src=\"https://colab.research.google.com/assets/colab-badge.svg\" alt=\"Open In Colab\"/></a>"
      ]
    },
    {
      "cell_type": "code",
      "execution_count": null,
      "metadata": {
        "id": "lv6DcX3tkQuG"
      },
      "outputs": [],
      "source": [
        "import pandas as pd\n",
        "from sklearn.model_selection import train_test_split\n",
        "from sklearn.preprocessing import StandardScaler\n",
        "import numpy as np\n",
        "import matplotlib.pyplot as plt"
      ]
    },
    {
      "cell_type": "code",
      "source": [
        "data = pd.read_csv('/content/train.csv')"
      ],
      "metadata": {
        "id": "AVFdq6ibk2Ob"
      },
      "execution_count": null,
      "outputs": []
    },
    {
      "cell_type": "markdown",
      "source": [
        "# Task 1"
      ],
      "metadata": {
        "id": "z2z8pfwKmePp"
      }
    },
    {
      "cell_type": "markdown",
      "source": [
        "**Data** **Selection**"
      ],
      "metadata": {
        "id": "r3IhO1fQnNI3"
      }
    },
    {
      "cell_type": "code",
      "source": [
        "data['Levy'] = pd.to_numeric(data['Levy'].replace({'-': '0'}), errors='coerce')\n",
        "filtered_data = data[(data['Fuel type'] !='Diesel') & (data['Prod. year']>=2005)]\n",
        "filtered_data.head(2)"
      ],
      "metadata": {
        "id": "2FVcRvYnlkL_"
      },
      "execution_count": null,
      "outputs": []
    },
    {
      "cell_type": "code",
      "source": [
        "filtered_data.tail(2)"
      ],
      "metadata": {
        "id": "FnufkkgAmuCQ"
      },
      "execution_count": null,
      "outputs": []
    },
    {
      "cell_type": "markdown",
      "source": [
        "**Data Transformation**"
      ],
      "metadata": {
        "id": "goUsK4UenZja"
      }
    },
    {
      "cell_type": "code",
      "source": [
        "average_levy = filtered_data['Levy'].sum()/len(filtered_data)"
      ],
      "metadata": {
        "id": "mc-qrbcCndeQ"
      },
      "execution_count": null,
      "outputs": []
    },
    {
      "cell_type": "markdown",
      "source": [
        "# Task 2"
      ],
      "metadata": {
        "id": "FHSAvYD5oTkF"
      }
    },
    {
      "cell_type": "markdown",
      "source": [
        "**Data Preparation**"
      ],
      "metadata": {
        "id": "MXfGOLhcoXT2"
      }
    },
    {
      "cell_type": "code",
      "source": [
        "selected_features = ['Price', 'Levy', 'Mileage', 'Prod. year']\n",
        "prepared_data = filtered_data[selected_features].dropna()\n",
        "prepared_data['Mileage'] = prepared_data['Mileage'].str.replace('km', '').astype(int)\n",
        "prepared_data.head(2)"
      ],
      "metadata": {
        "id": "mv8R3j7coWtN"
      },
      "execution_count": null,
      "outputs": []
    },
    {
      "cell_type": "code",
      "source": [
        "train_data, test_data = train_test_split(prepared_data, test_size=0.1, random_state=42)\n",
        "X_train = train_data.drop(columns=['Price']).values\n",
        "y_train = train_data['Price'].values\n",
        "X_test = test_data.drop(columns=['Price']).values\n",
        "y_test = test_data['Price'].values"
      ],
      "metadata": {
        "id": "8uvWdD7fqsAc"
      },
      "execution_count": null,
      "outputs": []
    },
    {
      "cell_type": "code",
      "source": [
        "scaler = StandardScaler()\n",
        "X_train_scaled = scaler.fit_transform(X_train)\n",
        "X_test_scaled = scaler.transform(X_test)"
      ],
      "metadata": {
        "id": "HkWrdMOhrAcy"
      },
      "execution_count": null,
      "outputs": []
    },
    {
      "cell_type": "markdown",
      "source": [
        "**Training the Model**"
      ],
      "metadata": {
        "id": "rD76AwE2v28t"
      }
    },
    {
      "cell_type": "code",
      "source": [
        "class LinearRegressionGD:\n",
        "    def __init__(self, learning_rate, iterations):\n",
        "        self.learning_rate = learning_rate\n",
        "        self.iterations = iterations\n",
        "        self.weights = None\n",
        "        self.bias = None\n",
        "        self.cost_history = []\n",
        "\n",
        "    def fit(self, X, y):\n",
        "        n_samples, n_features = X.shape\n",
        "        self.weights = np.zeros(n_features)\n",
        "        self.bias = 0\n",
        "\n",
        "        for i in range(self.iterations):\n",
        "            # Compute predictions\n",
        "            y_pred = np.dot(X, self.weights) + self.bias\n",
        "\n",
        "            # Compute gradients\n",
        "            dw = (1 / n_samples) * np.dot(X.T, (y_pred - y))\n",
        "            db = (1 / n_samples) * np.sum(y_pred - y)\n",
        "\n",
        "            # Update weights and bias\n",
        "            self.weights -= self.learning_rate * dw\n",
        "            self.bias -= self.learning_rate * db\n",
        "\n",
        "            # Compute cost and store it\n",
        "            cost = np.mean((y_pred- y) ** 2)\n",
        "            self.cost_history.append(cost)\n",
        "\n",
        "    def predict(self, X):\n",
        "        return np.dot(X, self.weights) + self.bias"
      ],
      "metadata": {
        "id": "25BqjMdurBTU"
      },
      "execution_count": null,
      "outputs": []
    },
    {
      "cell_type": "code",
      "source": [
        "learning_rate = 0.01\n",
        "iterations = 1000\n",
        "model = LinearRegressionGD(learning_rate=learning_rate, iterations=iterations)\n",
        "model.fit(X_train_scaled, y_train)\n",
        "\n",
        "# Extracting weights and bias\n",
        "optimal_weights = model.weights\n",
        "optimal_bias = model.bias\n",
        "\n",
        "# Plotting training cost vs. iterations\n",
        "plt.plot(range(iterations), model.cost_history)\n",
        "plt.title(\"Training Cost vs. Iterations\")\n",
        "plt.xlabel(\"Iterations\")\n",
        "plt.ylabel(\"Cost\")\n",
        "plt.grid()\n",
        "plt.show()\n"
      ],
      "metadata": {
        "id": "Ztgl8XSxwBl_"
      },
      "execution_count": null,
      "outputs": []
    },
    {
      "cell_type": "code",
      "source": [
        "y_test_pred = model.predict(X_test_scaled)\n",
        "\n",
        "test_cost = np.mean((y_test - y_test_pred) ** 2)\n",
        "\n",
        "print(\"Optimal Weights:\", optimal_weights)\n",
        "print(\"Optimal Bias:\", optimal_bias)\n",
        "print(\"Test Set Cost:\", test_cost)"
      ],
      "metadata": {
        "id": "dVmyXdUBwbll"
      },
      "execution_count": null,
      "outputs": []
    }
  ]
}