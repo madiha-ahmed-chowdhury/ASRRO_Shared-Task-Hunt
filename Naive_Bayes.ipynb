{
  "nbformat": 4,
  "nbformat_minor": 0,
  "metadata": {
    "colab": {
      "private_outputs": true,
      "provenance": [],
      "authorship_tag": "ABX9TyNB1vexRJ+CGOMcFtFBEbKe",
      "include_colab_link": true
    },
    "kernelspec": {
      "name": "python3",
      "display_name": "Python 3"
    },
    "language_info": {
      "name": "python"
    }
  },
  "cells": [
    {
      "cell_type": "markdown",
      "metadata": {
        "id": "view-in-github",
        "colab_type": "text"
      },
      "source": [
        "<a href=\"https://colab.research.google.com/github/madiha-ahmed-chowdhury/ASRRO_Shared-Task-Hunt/blob/main/Naive_Bayes.ipynb\" target=\"_parent\"><img src=\"https://colab.research.google.com/assets/colab-badge.svg\" alt=\"Open In Colab\"/></a>"
      ]
    },
    {
      "cell_type": "code",
      "execution_count": null,
      "metadata": {
        "id": "E2LuOpzgEoMg"
      },
      "outputs": [],
      "source": [
        "from collections import Counter\n",
        "\n",
        "# Training dataset\n",
        "data = [\n",
        "    {\"Temperature\": \"Hot\", \"Outlook\": \"Sunny\", \"Humidity\": \"High\", \"Windy\": False, \"Play\": \"No\"},\n",
        "    {\"Temperature\": \"Hot\", \"Outlook\": \"Sunny\", \"Humidity\": \"High\", \"Windy\": True, \"Play\": \"No\"},\n",
        "    {\"Temperature\": \"Hot\", \"Outlook\": \"Overcast\", \"Humidity\": \"High\", \"Windy\": False, \"Play\": \"Yes\"},\n",
        "    {\"Temperature\": \"Cool\", \"Outlook\": \"Rain\", \"Humidity\": \"Normal\", \"Windy\": False, \"Play\": \"Yes\"},\n",
        "    {\"Temperature\": \"Cool\", \"Outlook\": \"Overcast\", \"Humidity\": \"Normal\", \"Windy\": True, \"Play\": \"Yes\"},\n",
        "    {\"Temperature\": \"Mild\", \"Outlook\": \"Sunny\", \"Humidity\": \"High\", \"Windy\": False, \"Play\": \"No\"},\n",
        "    {\"Temperature\": \"Cool\", \"Outlook\": \"Sunny\", \"Humidity\": \"Normal\", \"Windy\": False, \"Play\": \"Yes\"},\n",
        "    {\"Temperature\": \"Mild\", \"Outlook\": \"Rain\", \"Humidity\": \"Normal\", \"Windy\": False, \"Play\": \"Yes\"},\n",
        "    {\"Temperature\": \"Mild\", \"Outlook\": \"Sunny\", \"Humidity\": \"Normal\", \"Windy\": True, \"Play\": \"Yes\"},\n",
        "    {\"Temperature\": \"Mild\", \"Outlook\": \"Overcast\", \"Humidity\": \"High\", \"Windy\": True, \"Play\": \"Yes\"},\n",
        "    {\"Temperature\": \"Hot\", \"Outlook\": \"Overcast\", \"Humidity\": \"Normal\", \"Windy\": False, \"Play\": \"Yes\"},\n",
        "    {\"Temperature\": \"Cool\", \"Outlook\": \"Rain\", \"Humidity\": \"High\", \"Windy\": True, \"Play\": \"No\"},\n",
        "    {\"Temperature\": \"Mild\", \"Outlook\": \"Rain\", \"Humidity\": \"High\", \"Windy\": False, \"Play\": \"No\"},\n",
        "    {\"Temperature\": \"Hot\", \"Outlook\": \"Rain\", \"Humidity\": \"Normal\", \"Windy\": False, \"Play\": \"Yes\"}\n",
        "]\n",
        "\n",
        "# Function to calculate conditional probabilities\n",
        "def calculate_probabilities(data, feature, value, target, target_value):\n",
        "    filtered = [entry for entry in data if entry[target] == target_value]\n",
        "    count = sum(1 for entry in filtered if entry[feature] == value)\n",
        "    return count / len(filtered) if filtered else 0\n",
        "\n",
        "# Calculate class probabilities\n",
        "def naive_bayes(data, query):\n",
        "    # Calculate P(Play = Yes) and P(Play = No)\n",
        "    target_values = [entry[\"Play\"] for entry in data]\n",
        "    target_counts = Counter(target_values)\n",
        "    total_count = len(data)\n",
        "\n",
        "    probs = {}\n",
        "    for target_value in target_counts:\n",
        "        probs[target_value] = target_counts[target_value] / total_count\n",
        "        for feature, value in query.items():\n",
        "            conditional_prob = calculate_probabilities(data, feature, value, \"Play\", target_value)\n",
        "            probs[target_value] *= conditional_prob\n",
        "\n",
        "    return probs\n",
        "\n",
        "# Query tuple\n",
        "query = {\"Temperature\": \"Hot\", \"Outlook\": \"Sunny\", \"Humidity\": \"Normal\", \"Windy\": True}\n",
        "\n",
        "# Predict the class\n",
        "probabilities = naive_bayes(data, query)\n",
        "predicted_class = max(probabilities, key=probabilities.get)\n",
        "\n",
        "print(\"Probabilities:\", probabilities)\n",
        "print(\"Predicted class:\", predicted_class)\n"
      ]
    }
  ]
}