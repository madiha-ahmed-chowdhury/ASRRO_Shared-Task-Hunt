{
  "nbformat": 4,
  "nbformat_minor": 0,
  "metadata": {
    "colab": {
      "private_outputs": true,
      "provenance": [],
      "authorship_tag": "ABX9TyM/RKGUnYPq2UEy0/9hj9sc",
      "include_colab_link": true
    },
    "kernelspec": {
      "name": "python3",
      "display_name": "Python 3"
    },
    "language_info": {
      "name": "python"
    }
  },
  "cells": [
    {
      "cell_type": "markdown",
      "metadata": {
        "id": "view-in-github",
        "colab_type": "text"
      },
      "source": [
        "<a href=\"https://colab.research.google.com/github/madiha-ahmed-chowdhury/ASRRO_Shared-Task-Hunt/blob/main/Logistic_Regression__Titanic_Dataset.ipynb\" target=\"_parent\"><img src=\"https://colab.research.google.com/assets/colab-badge.svg\" alt=\"Open In Colab\"/></a>"
      ]
    },
    {
      "cell_type": "code",
      "execution_count": null,
      "metadata": {
        "id": "3IK5Wb43zH8-"
      },
      "outputs": [],
      "source": [
        "import pandas as pd\n",
        "import numpy as np\n",
        "from sklearn.model_selection import train_test_split\n",
        "from sklearn.preprocessing import StandardScaler, LabelEncoder\n",
        "import matplotlib.pyplot as plt"
      ]
    },
    {
      "cell_type": "code",
      "source": [
        "titanic_data = pd.read_csv('/content/train_and_test2.csv')"
      ],
      "metadata": {
        "id": "RjUPoP1iAlC1"
      },
      "execution_count": null,
      "outputs": []
    },
    {
      "cell_type": "code",
      "source": [
        "# Handling missing values\n",
        "titanic_data.fillna({\n",
        "    'Age': titanic_data['Age'].median(),\n",
        "    'Embarked': titanic_data['Embarked'].mode()[0]\n",
        "}, inplace=True)"
      ],
      "metadata": {
        "id": "x4W_e6nEAseT"
      },
      "execution_count": null,
      "outputs": []
    },
    {
      "cell_type": "code",
      "source": [
        "# Encoding categorical variables\n",
        "label_encoder = LabelEncoder()\n",
        "titanic_data['Sex'] = label_encoder.fit_transform(titanic_data['Sex'])\n",
        "titanic_data['Embarked'] = label_encoder.fit_transform(titanic_data['Embarked'])"
      ],
      "metadata": {
        "id": "_WUkJMHKBjE1"
      },
      "execution_count": null,
      "outputs": []
    },
    {
      "cell_type": "code",
      "source": [
        "# Renaming columns for clarity\n",
        "titanic_data.rename(columns={'2urvived': 'Survived', 'sibsp': 'SibSp'}, inplace=True)\n",
        "\n",
        "# Selecting relevant features\n",
        "features = ['Pclass', 'Sex', 'Age', 'SibSp', 'Parch', 'Fare', 'Embarked']\n",
        "X = titanic_data[features]\n",
        "y = titanic_data['Survived']\n"
      ],
      "metadata": {
        "id": "9_aTIM11B5kb"
      },
      "execution_count": null,
      "outputs": []
    },
    {
      "cell_type": "code",
      "source": [
        "# Splitting the dataset into Train (80%) and Test (20%) sets\n",
        "X_train, X_test, y_train, y_test = train_test_split(X, y, test_size=0.2, random_state=42)"
      ],
      "metadata": {
        "id": "DqS4tqepCOzR"
      },
      "execution_count": null,
      "outputs": []
    },
    {
      "cell_type": "code",
      "source": [
        "# Feature scaling\n",
        "scaler = StandardScaler()\n",
        "X_train_scaled = scaler.fit_transform(X_train)\n",
        "X_test_scaled = scaler.transform(X_test)"
      ],
      "metadata": {
        "id": "X6WRoKXsCP2c"
      },
      "execution_count": null,
      "outputs": []
    },
    {
      "cell_type": "code",
      "source": [
        "class LogisticRegressionGD:\n",
        "    def __init__(self, learning_rate=0.01, iterations=1000):\n",
        "        self.learning_rate = learning_rate\n",
        "        self.iterations = iterations\n",
        "        self.weights = None\n",
        "        self.bias = None\n",
        "        self.cost_history = []\n",
        "\n",
        "    def sigmoid(self, z):\n",
        "        return 1 / (1 + np.exp(-z))\n",
        "\n",
        "    def fit(self, X, y):\n",
        "        n_samples, n_features = X.shape\n",
        "        self.weights = np.zeros(n_features)\n",
        "        self.bias = 0\n",
        "\n",
        "        for i in range(self.iterations):\n",
        "            # Compute predictions\n",
        "            linear_model = np.dot(X, self.weights) + self.bias\n",
        "            y_pred = self.sigmoid(linear_model)\n",
        "\n",
        "            # Compute gradients\n",
        "            dw = (1 / n_samples) * np.dot(X.T, (y_pred - y))\n",
        "            db = (1 / n_samples) * np.sum(y_pred - y)\n",
        "\n",
        "            # Update weights and bias\n",
        "            self.weights -= self.learning_rate * dw\n",
        "            self.bias -= self.learning_rate * db\n",
        "\n",
        "            # Compute cost and store it\n",
        "            cost = -(1 / n_samples) * np.sum(y * np.log(y_pred) + (1 - y) * np.log(1 - y_pred))\n",
        "            self.cost_history.append(cost)\n",
        "\n",
        "    def predict(self, X):\n",
        "        linear_model = np.dot(X, self.weights) + self.bias\n",
        "        y_pred = self.sigmoid(linear_model)\n",
        "        return [1 if i > 0.5 else 0 for i in y_pred]"
      ],
      "metadata": {
        "id": "beCWrfHCCTeO"
      },
      "execution_count": null,
      "outputs": []
    },
    {
      "cell_type": "code",
      "source": [
        "# Training the model\n",
        "model = LogisticRegressionGD(learning_rate=0.01, iterations=1000)\n",
        "model.fit(X_train_scaled, y_train)\n"
      ],
      "metadata": {
        "id": "58hSA9G-DQSF"
      },
      "execution_count": null,
      "outputs": []
    },
    {
      "cell_type": "code",
      "source": [
        "# Extracting weights, bias, and cost history\n",
        "optimal_weights = model.weights\n",
        "optimal_bias = model.bias\n",
        "cost_history = model.cost_history"
      ],
      "metadata": {
        "id": "Ovnhp0yuDUXR"
      },
      "execution_count": null,
      "outputs": []
    },
    {
      "cell_type": "code",
      "source": [
        "# Plotting cost vs iterations (Learning Curve)\n",
        "plt.plot(range(len(cost_history)), cost_history)\n",
        "plt.title(\"Learning Curve: Cost vs Iterations\")\n",
        "plt.xlabel(\"Iterations\")\n",
        "plt.ylabel(\"Cost\")\n",
        "plt.grid()\n",
        "plt.show()"
      ],
      "metadata": {
        "id": "Kj68iLcJDe7d"
      },
      "execution_count": null,
      "outputs": []
    },
    {
      "cell_type": "markdown",
      "source": [],
      "metadata": {
        "id": "MzvRn_uODrAC"
      }
    },
    {
      "cell_type": "code",
      "source": [
        "# Cost vs Weights (Cost Curve)\n",
        "plt.plot(optimal_weights, cost_history[-len(optimal_weights):])\n",
        "plt.title(\"Cost vs Weights\")\n",
        "plt.xlabel(\"Weights\")\n",
        "plt.ylabel(\"Cost\")\n",
        "plt.grid()\n",
        "plt.show()"
      ],
      "metadata": {
        "id": "rcfaryNDDfa5"
      },
      "execution_count": null,
      "outputs": []
    },
    {
      "cell_type": "code",
      "source": [
        "# Predictions and Evaluation\n",
        "y_test_pred = model.predict(X_test_scaled)\n",
        "test_accuracy = np.mean(y_test_pred == y_test) * 100\n",
        "\n",
        "print(\"Optimal Weights:\", optimal_weights)\n",
        "print(\"Optimal Bias:\", optimal_bias)\n",
        "print(\"Test Set Accuracy:\", test_accuracy)"
      ],
      "metadata": {
        "id": "PdQdMZBCD4Sp"
      },
      "execution_count": null,
      "outputs": []
    },
    {
      "cell_type": "code",
      "source": [],
      "metadata": {
        "id": "dnpKKC86D4wK"
      },
      "execution_count": null,
      "outputs": []
    }
  ]
}